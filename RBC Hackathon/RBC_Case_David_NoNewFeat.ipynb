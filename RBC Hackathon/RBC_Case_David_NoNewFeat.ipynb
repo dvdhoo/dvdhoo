{
  "nbformat": 4,
  "nbformat_minor": 0,
  "metadata": {
    "kernelspec": {
      "display_name": "Python 3",
      "language": "python",
      "name": "python3"
    },
    "language_info": {
      "codemirror_mode": {
        "name": "ipython",
        "version": 3
      },
      "file_extension": ".py",
      "mimetype": "text/x-python",
      "name": "python",
      "nbconvert_exporter": "python",
      "pygments_lexer": "ipython3",
      "version": "3.8.5"
    },
    "colab": {
      "name": "RBC_Case_David-NoNewFeat.ipynb",
      "provenance": []
    }
  },
  "cells": [
    {
      "cell_type": "markdown",
      "metadata": {
        "id": "udSs930D9xe3"
      },
      "source": [
        "# RBC Case"
      ]
    },
    {
      "cell_type": "markdown",
      "metadata": {
        "id": "XCPXwaVm9xe6"
      },
      "source": [
        "## Load Data"
      ]
    },
    {
      "cell_type": "code",
      "metadata": {
        "colab": {
          "base_uri": "https://localhost:8080/"
        },
        "id": "xdz0hBTo9xe7",
        "outputId": "8dc2bed3-ec6e-46cc-b156-499b1b109088"
      },
      "source": [
        "import pandas as pd\n",
        "import numpy as np\n",
        "import matplotlib.pyplot as plt\n",
        "\n",
        "from sklearn.model_selection import GridSearchCV, cross_validate, train_test_split, StratifiedKFold\n",
        "from sklearn.preprocessing import OneHotEncoder\n",
        "\n",
        "from imblearn.over_sampling import RandomOverSampler\n",
        "from imblearn.over_sampling import SMOTE\n",
        "from imblearn.over_sampling import ADASYN\n",
        "from imblearn.under_sampling import RandomUnderSampler\n",
        "\n",
        "from sklearn.pipeline import Pipeline\n",
        "\n",
        "from sklearn.ensemble import RandomForestClassifier, GradientBoostingClassifier\n",
        "from sklearn.tree import DecisionTreeClassifier\n",
        "from sklearn.linear_model import LogisticRegression\n",
        "from sklearn.naive_bayes import GaussianNB\n",
        "import xgboost as xgb\n",
        "\n",
        "from sklearn.metrics import plot_roc_curve, roc_curve, roc_auc_score, auc\n",
        "from sklearn.metrics import classification_report, accuracy_score, cohen_kappa_score, f1_score\n",
        "from sklearn.metrics import log_loss, confusion_matrix, recall_score, precision_score"
      ],
      "execution_count": 1,
      "outputs": [
        {
          "output_type": "stream",
          "text": [
            "/usr/local/lib/python3.7/dist-packages/sklearn/externals/six.py:31: FutureWarning: The module is deprecated in version 0.21 and will be removed in version 0.23 since we've dropped support for Python 2.7. Please rely on the official version of six (https://pypi.org/project/six/).\n",
            "  \"(https://pypi.org/project/six/).\", FutureWarning)\n",
            "/usr/local/lib/python3.7/dist-packages/sklearn/utils/deprecation.py:144: FutureWarning: The sklearn.neighbors.base module is  deprecated in version 0.22 and will be removed in version 0.24. The corresponding classes / functions should instead be imported from sklearn.neighbors. Anything that cannot be imported from sklearn.neighbors is now part of the private API.\n",
            "  warnings.warn(message, FutureWarning)\n"
          ],
          "name": "stderr"
        }
      ]
    },
    {
      "cell_type": "code",
      "metadata": {
        "id": "chTIFLxk9xe8"
      },
      "source": [
        "df = pd.read_csv(\"Dataset.csv\")"
      ],
      "execution_count": 2,
      "outputs": []
    },
    {
      "cell_type": "code",
      "metadata": {
        "colab": {
          "base_uri": "https://localhost:8080/",
          "height": 343
        },
        "id": "_NeXOHbk9xe9",
        "outputId": "b4ebbc8f-7446-46bb-c175-f7db8e6f5d7b"
      },
      "source": [
        "df.head()"
      ],
      "execution_count": 3,
      "outputs": [
        {
          "output_type": "execute_result",
          "data": {
            "text/html": [
              "<div>\n",
              "<style scoped>\n",
              "    .dataframe tbody tr th:only-of-type {\n",
              "        vertical-align: middle;\n",
              "    }\n",
              "\n",
              "    .dataframe tbody tr th {\n",
              "        vertical-align: top;\n",
              "    }\n",
              "\n",
              "    .dataframe thead th {\n",
              "        text-align: right;\n",
              "    }\n",
              "</style>\n",
              "<table border=\"1\" class=\"dataframe\">\n",
              "  <thead>\n",
              "    <tr style=\"text-align: right;\">\n",
              "      <th></th>\n",
              "      <th>Client ID Number</th>\n",
              "      <th>Campaign Response</th>\n",
              "      <th>Customer_Age</th>\n",
              "      <th>Gender</th>\n",
              "      <th>Education_Level</th>\n",
              "      <th>Marital_Status</th>\n",
              "      <th>Income_Category</th>\n",
              "      <th>Card_Category</th>\n",
              "      <th>Months_on_book</th>\n",
              "      <th>Total_Relationship_Count</th>\n",
              "      <th>Months_Inactive_12_mon</th>\n",
              "      <th>Contacts_Count_12_mon</th>\n",
              "      <th>Credit_Limit</th>\n",
              "      <th>Total_Revolving_Bal</th>\n",
              "      <th>Avg_Open_To_Buy</th>\n",
              "      <th>Total_Amt_Chng_Q4_Q1</th>\n",
              "      <th>Total_Trans_Amt</th>\n",
              "      <th>Total_Trans_Ct</th>\n",
              "      <th>Total_Ct_Chng_Q4_Q1</th>\n",
              "      <th>Avg_Utilization_Ratio</th>\n",
              "    </tr>\n",
              "  </thead>\n",
              "  <tbody>\n",
              "    <tr>\n",
              "      <th>0</th>\n",
              "      <td>768805383</td>\n",
              "      <td>Did Not Respond</td>\n",
              "      <td>45</td>\n",
              "      <td>M</td>\n",
              "      <td>High School</td>\n",
              "      <td>Married</td>\n",
              "      <td>$60K - $80K</td>\n",
              "      <td>Rewards Basic</td>\n",
              "      <td>39</td>\n",
              "      <td>5</td>\n",
              "      <td>1</td>\n",
              "      <td>3</td>\n",
              "      <td>12691.0</td>\n",
              "      <td>777</td>\n",
              "      <td>11914.0</td>\n",
              "      <td>1.335</td>\n",
              "      <td>1144</td>\n",
              "      <td>42</td>\n",
              "      <td>1.625</td>\n",
              "      <td>0.061</td>\n",
              "    </tr>\n",
              "    <tr>\n",
              "      <th>1</th>\n",
              "      <td>818770008</td>\n",
              "      <td>Did Not Respond</td>\n",
              "      <td>49</td>\n",
              "      <td>F</td>\n",
              "      <td>Graduate</td>\n",
              "      <td>Single</td>\n",
              "      <td>Less than $40K</td>\n",
              "      <td>Rewards Basic</td>\n",
              "      <td>44</td>\n",
              "      <td>6</td>\n",
              "      <td>1</td>\n",
              "      <td>2</td>\n",
              "      <td>8256.0</td>\n",
              "      <td>864</td>\n",
              "      <td>7392.0</td>\n",
              "      <td>1.541</td>\n",
              "      <td>1291</td>\n",
              "      <td>33</td>\n",
              "      <td>3.714</td>\n",
              "      <td>0.105</td>\n",
              "    </tr>\n",
              "    <tr>\n",
              "      <th>2</th>\n",
              "      <td>713982108</td>\n",
              "      <td>Did Not Respond</td>\n",
              "      <td>51</td>\n",
              "      <td>M</td>\n",
              "      <td>Graduate</td>\n",
              "      <td>Married</td>\n",
              "      <td>$80K - $120K</td>\n",
              "      <td>Rewards Basic</td>\n",
              "      <td>36</td>\n",
              "      <td>4</td>\n",
              "      <td>1</td>\n",
              "      <td>0</td>\n",
              "      <td>3418.0</td>\n",
              "      <td>0</td>\n",
              "      <td>3418.0</td>\n",
              "      <td>2.594</td>\n",
              "      <td>1887</td>\n",
              "      <td>20</td>\n",
              "      <td>2.333</td>\n",
              "      <td>0.000</td>\n",
              "    </tr>\n",
              "    <tr>\n",
              "      <th>3</th>\n",
              "      <td>769911858</td>\n",
              "      <td>Did Not Respond</td>\n",
              "      <td>40</td>\n",
              "      <td>F</td>\n",
              "      <td>High School</td>\n",
              "      <td>Unknown</td>\n",
              "      <td>Less than $40K</td>\n",
              "      <td>Rewards Basic</td>\n",
              "      <td>34</td>\n",
              "      <td>3</td>\n",
              "      <td>4</td>\n",
              "      <td>1</td>\n",
              "      <td>3313.0</td>\n",
              "      <td>2517</td>\n",
              "      <td>796.0</td>\n",
              "      <td>1.405</td>\n",
              "      <td>1171</td>\n",
              "      <td>20</td>\n",
              "      <td>2.333</td>\n",
              "      <td>0.760</td>\n",
              "    </tr>\n",
              "    <tr>\n",
              "      <th>4</th>\n",
              "      <td>709106358</td>\n",
              "      <td>Did Not Respond</td>\n",
              "      <td>40</td>\n",
              "      <td>M</td>\n",
              "      <td>NaN</td>\n",
              "      <td>Married</td>\n",
              "      <td>$60K - $80K</td>\n",
              "      <td>Rewards Basic</td>\n",
              "      <td>21</td>\n",
              "      <td>5</td>\n",
              "      <td>1</td>\n",
              "      <td>0</td>\n",
              "      <td>4716.0</td>\n",
              "      <td>0</td>\n",
              "      <td>4716.0</td>\n",
              "      <td>2.175</td>\n",
              "      <td>816</td>\n",
              "      <td>28</td>\n",
              "      <td>2.500</td>\n",
              "      <td>0.000</td>\n",
              "    </tr>\n",
              "  </tbody>\n",
              "</table>\n",
              "</div>"
            ],
            "text/plain": [
              "   Client ID Number  ... Avg_Utilization_Ratio\n",
              "0         768805383  ...                 0.061\n",
              "1         818770008  ...                 0.105\n",
              "2         713982108  ...                 0.000\n",
              "3         769911858  ...                 0.760\n",
              "4         709106358  ...                 0.000\n",
              "\n",
              "[5 rows x 20 columns]"
            ]
          },
          "metadata": {
            "tags": []
          },
          "execution_count": 3
        }
      ]
    },
    {
      "cell_type": "code",
      "metadata": {
        "colab": {
          "base_uri": "https://localhost:8080/"
        },
        "id": "IGHKcKiO9xe-",
        "outputId": "073d8b1f-08f1-43dc-c3d2-eee0895ee98c"
      },
      "source": [
        "df.info()"
      ],
      "execution_count": 4,
      "outputs": [
        {
          "output_type": "stream",
          "text": [
            "<class 'pandas.core.frame.DataFrame'>\n",
            "RangeIndex: 10127 entries, 0 to 10126\n",
            "Data columns (total 20 columns):\n",
            " #   Column                    Non-Null Count  Dtype  \n",
            "---  ------                    --------------  -----  \n",
            " 0   Client ID Number          10127 non-null  int64  \n",
            " 1   Campaign Response         10127 non-null  object \n",
            " 2   Customer_Age              10127 non-null  int64  \n",
            " 3   Gender                    10127 non-null  object \n",
            " 4   Education_Level           8640 non-null   object \n",
            " 5   Marital_Status            10127 non-null  object \n",
            " 6   Income_Category           10127 non-null  object \n",
            " 7   Card_Category             10127 non-null  object \n",
            " 8   Months_on_book            10127 non-null  int64  \n",
            " 9   Total_Relationship_Count  10127 non-null  int64  \n",
            " 10  Months_Inactive_12_mon    10127 non-null  int64  \n",
            " 11  Contacts_Count_12_mon     10127 non-null  int64  \n",
            " 12  Credit_Limit              10127 non-null  float64\n",
            " 13  Total_Revolving_Bal       10127 non-null  int64  \n",
            " 14  Avg_Open_To_Buy           10127 non-null  float64\n",
            " 15  Total_Amt_Chng_Q4_Q1      10127 non-null  float64\n",
            " 16  Total_Trans_Amt           10127 non-null  int64  \n",
            " 17  Total_Trans_Ct            10127 non-null  int64  \n",
            " 18  Total_Ct_Chng_Q4_Q1       10127 non-null  float64\n",
            " 19  Avg_Utilization_Ratio     10127 non-null  float64\n",
            "dtypes: float64(5), int64(9), object(6)\n",
            "memory usage: 1.5+ MB\n"
          ],
          "name": "stdout"
        }
      ]
    },
    {
      "cell_type": "code",
      "metadata": {
        "colab": {
          "base_uri": "https://localhost:8080/",
          "height": 334
        },
        "id": "MPa9LuU69xe-",
        "outputId": "9dc4c391-205c-4e0d-e427-176b87ac87fd"
      },
      "source": [
        "df.describe()"
      ],
      "execution_count": 5,
      "outputs": [
        {
          "output_type": "execute_result",
          "data": {
            "text/html": [
              "<div>\n",
              "<style scoped>\n",
              "    .dataframe tbody tr th:only-of-type {\n",
              "        vertical-align: middle;\n",
              "    }\n",
              "\n",
              "    .dataframe tbody tr th {\n",
              "        vertical-align: top;\n",
              "    }\n",
              "\n",
              "    .dataframe thead th {\n",
              "        text-align: right;\n",
              "    }\n",
              "</style>\n",
              "<table border=\"1\" class=\"dataframe\">\n",
              "  <thead>\n",
              "    <tr style=\"text-align: right;\">\n",
              "      <th></th>\n",
              "      <th>Client ID Number</th>\n",
              "      <th>Customer_Age</th>\n",
              "      <th>Months_on_book</th>\n",
              "      <th>Total_Relationship_Count</th>\n",
              "      <th>Months_Inactive_12_mon</th>\n",
              "      <th>Contacts_Count_12_mon</th>\n",
              "      <th>Credit_Limit</th>\n",
              "      <th>Total_Revolving_Bal</th>\n",
              "      <th>Avg_Open_To_Buy</th>\n",
              "      <th>Total_Amt_Chng_Q4_Q1</th>\n",
              "      <th>Total_Trans_Amt</th>\n",
              "      <th>Total_Trans_Ct</th>\n",
              "      <th>Total_Ct_Chng_Q4_Q1</th>\n",
              "      <th>Avg_Utilization_Ratio</th>\n",
              "    </tr>\n",
              "  </thead>\n",
              "  <tbody>\n",
              "    <tr>\n",
              "      <th>count</th>\n",
              "      <td>1.012700e+04</td>\n",
              "      <td>10127.000000</td>\n",
              "      <td>10127.000000</td>\n",
              "      <td>10127.000000</td>\n",
              "      <td>10127.000000</td>\n",
              "      <td>10127.000000</td>\n",
              "      <td>10127.000000</td>\n",
              "      <td>10127.000000</td>\n",
              "      <td>10127.000000</td>\n",
              "      <td>10127.000000</td>\n",
              "      <td>10127.000000</td>\n",
              "      <td>10127.000000</td>\n",
              "      <td>10127.000000</td>\n",
              "      <td>10127.000000</td>\n",
              "    </tr>\n",
              "    <tr>\n",
              "      <th>mean</th>\n",
              "      <td>7.391776e+08</td>\n",
              "      <td>46.325960</td>\n",
              "      <td>35.928409</td>\n",
              "      <td>3.812580</td>\n",
              "      <td>2.341167</td>\n",
              "      <td>2.455317</td>\n",
              "      <td>8631.953698</td>\n",
              "      <td>1162.814061</td>\n",
              "      <td>7469.139637</td>\n",
              "      <td>0.759941</td>\n",
              "      <td>4404.086304</td>\n",
              "      <td>64.858695</td>\n",
              "      <td>0.712222</td>\n",
              "      <td>0.274894</td>\n",
              "    </tr>\n",
              "    <tr>\n",
              "      <th>std</th>\n",
              "      <td>3.690378e+07</td>\n",
              "      <td>8.016814</td>\n",
              "      <td>7.986416</td>\n",
              "      <td>1.554408</td>\n",
              "      <td>1.010622</td>\n",
              "      <td>1.106225</td>\n",
              "      <td>9088.776650</td>\n",
              "      <td>814.987335</td>\n",
              "      <td>9090.685324</td>\n",
              "      <td>0.219207</td>\n",
              "      <td>3397.129254</td>\n",
              "      <td>23.472570</td>\n",
              "      <td>0.238086</td>\n",
              "      <td>0.275691</td>\n",
              "    </tr>\n",
              "    <tr>\n",
              "      <th>min</th>\n",
              "      <td>7.080821e+08</td>\n",
              "      <td>26.000000</td>\n",
              "      <td>13.000000</td>\n",
              "      <td>1.000000</td>\n",
              "      <td>0.000000</td>\n",
              "      <td>0.000000</td>\n",
              "      <td>1438.300000</td>\n",
              "      <td>0.000000</td>\n",
              "      <td>3.000000</td>\n",
              "      <td>0.000000</td>\n",
              "      <td>510.000000</td>\n",
              "      <td>10.000000</td>\n",
              "      <td>0.000000</td>\n",
              "      <td>0.000000</td>\n",
              "    </tr>\n",
              "    <tr>\n",
              "      <th>25%</th>\n",
              "      <td>7.130368e+08</td>\n",
              "      <td>41.000000</td>\n",
              "      <td>31.000000</td>\n",
              "      <td>3.000000</td>\n",
              "      <td>2.000000</td>\n",
              "      <td>2.000000</td>\n",
              "      <td>2555.000000</td>\n",
              "      <td>359.000000</td>\n",
              "      <td>1324.500000</td>\n",
              "      <td>0.631000</td>\n",
              "      <td>2155.500000</td>\n",
              "      <td>45.000000</td>\n",
              "      <td>0.582000</td>\n",
              "      <td>0.023000</td>\n",
              "    </tr>\n",
              "    <tr>\n",
              "      <th>50%</th>\n",
              "      <td>7.179264e+08</td>\n",
              "      <td>46.000000</td>\n",
              "      <td>36.000000</td>\n",
              "      <td>4.000000</td>\n",
              "      <td>2.000000</td>\n",
              "      <td>2.000000</td>\n",
              "      <td>4549.000000</td>\n",
              "      <td>1276.000000</td>\n",
              "      <td>3474.000000</td>\n",
              "      <td>0.736000</td>\n",
              "      <td>3899.000000</td>\n",
              "      <td>67.000000</td>\n",
              "      <td>0.702000</td>\n",
              "      <td>0.176000</td>\n",
              "    </tr>\n",
              "    <tr>\n",
              "      <th>75%</th>\n",
              "      <td>7.731435e+08</td>\n",
              "      <td>52.000000</td>\n",
              "      <td>40.000000</td>\n",
              "      <td>5.000000</td>\n",
              "      <td>3.000000</td>\n",
              "      <td>3.000000</td>\n",
              "      <td>11067.500000</td>\n",
              "      <td>1784.000000</td>\n",
              "      <td>9859.000000</td>\n",
              "      <td>0.859000</td>\n",
              "      <td>4741.000000</td>\n",
              "      <td>81.000000</td>\n",
              "      <td>0.818000</td>\n",
              "      <td>0.503000</td>\n",
              "    </tr>\n",
              "    <tr>\n",
              "      <th>max</th>\n",
              "      <td>8.283431e+08</td>\n",
              "      <td>73.000000</td>\n",
              "      <td>56.000000</td>\n",
              "      <td>6.000000</td>\n",
              "      <td>6.000000</td>\n",
              "      <td>6.000000</td>\n",
              "      <td>34516.000000</td>\n",
              "      <td>2517.000000</td>\n",
              "      <td>34516.000000</td>\n",
              "      <td>3.397000</td>\n",
              "      <td>18484.000000</td>\n",
              "      <td>139.000000</td>\n",
              "      <td>3.714000</td>\n",
              "      <td>0.999000</td>\n",
              "    </tr>\n",
              "  </tbody>\n",
              "</table>\n",
              "</div>"
            ],
            "text/plain": [
              "       Client ID Number  ...  Avg_Utilization_Ratio\n",
              "count      1.012700e+04  ...           10127.000000\n",
              "mean       7.391776e+08  ...               0.274894\n",
              "std        3.690378e+07  ...               0.275691\n",
              "min        7.080821e+08  ...               0.000000\n",
              "25%        7.130368e+08  ...               0.023000\n",
              "50%        7.179264e+08  ...               0.176000\n",
              "75%        7.731435e+08  ...               0.503000\n",
              "max        8.283431e+08  ...               0.999000\n",
              "\n",
              "[8 rows x 14 columns]"
            ]
          },
          "metadata": {
            "tags": []
          },
          "execution_count": 5
        }
      ]
    },
    {
      "cell_type": "code",
      "metadata": {
        "colab": {
          "base_uri": "https://localhost:8080/",
          "height": 997
        },
        "id": "ryxXIZ7q9xe_",
        "outputId": "27f257c7-a70b-400a-ca44-90b170f83644"
      },
      "source": [
        "corr = df.corr()\n",
        "\n",
        "import matplotlib.pyplot as plt\n",
        "import seaborn as sns\n",
        " \n",
        "plt.figure(figsize=(15, 15))\n",
        "matrix = np.triu(corr)\n",
        "sns.heatmap(corr,cmap='YlGnBu', annot=True, mask = matrix)"
      ],
      "execution_count": 6,
      "outputs": [
        {
          "output_type": "execute_result",
          "data": {
            "text/plain": [
              "<matplotlib.axes._subplots.AxesSubplot at 0x7fdcbe311a50>"
            ]
          },
          "metadata": {
            "tags": []
          },
          "execution_count": 6
        },
        {
          "output_type": "display_data",
          "data": {
            "image/png": "[encoded data removed]",
            "text/plain": [
              "<Figure size 1080x1080 with 2 Axes>"
            ]
          },
          "metadata": {
            "tags": [],
            "needs_background": "light"
          }
        }
      ]
    },
    {
      "cell_type": "code",
      "metadata": {
        "colab": {
          "base_uri": "https://localhost:8080/"
        },
        "id": "9VZh0x3X9xe_",
        "outputId": "c1cdd31f-0eda-46f6-b5d9-e4f159e4dcdb"
      },
      "source": [
        "df['Campaign Response'].value_counts()"
      ],
      "execution_count": 7,
      "outputs": [
        {
          "output_type": "execute_result",
          "data": {
            "text/plain": [
              "Did Not Respond    8500\n",
              "Did Respond        1627\n",
              "Name: Campaign Response, dtype: int64"
            ]
          },
          "metadata": {
            "tags": []
          },
          "execution_count": 7
        }
      ]
    },
    {
      "cell_type": "code",
      "metadata": {
        "id": "n6EYpjN69xfA"
      },
      "source": [
        "df[\"Education_Level\"] = df[\"Education_Level\"].fillna(value='Unknown')"
      ],
      "execution_count": 8,
      "outputs": []
    },
    {
      "cell_type": "markdown",
      "metadata": {
        "id": "dfJSVIgW9xfB"
      },
      "source": [
        "## Data Prep"
      ]
    },
    {
      "cell_type": "code",
      "metadata": {
        "id": "qBS4x2yo9xfB"
      },
      "source": [
        "y = df['Campaign Response']\n",
        "y = y.replace(['Did Not Respond', 'Did Respond '], [0, 1])\n",
        "X = df.drop(['Client ID Number', 'Campaign Response'], axis=1)\n",
        "X_dum = pd.get_dummies(X)"
      ],
      "execution_count": 9,
      "outputs": []
    },
    {
      "cell_type": "code",
      "metadata": {
        "colab": {
          "base_uri": "https://localhost:8080/"
        },
        "id": "3YwldPX39xfC",
        "outputId": "01f90d9a-fd1d-4493-ebdb-0eb80d688466"
      },
      "source": [
        "X_train, X_test, y_train, y_test = train_test_split(X_dum, y, test_size=0.2, stratify = df[['Campaign Response','Card_Category']], random_state=42)\n",
        "\n",
        "X_train.reset_index(drop=True)\n",
        "y_train.reset_index(drop=True)\n",
        "X_test.reset_index(drop=True)\n",
        "y_test.reset_index(drop=True)"
      ],
      "execution_count": 10,
      "outputs": [
        {
          "output_type": "execute_result",
          "data": {
            "text/plain": [
              "0       0\n",
              "1       0\n",
              "2       0\n",
              "3       0\n",
              "4       0\n",
              "       ..\n",
              "2021    1\n",
              "2022    0\n",
              "2023    1\n",
              "2024    0\n",
              "2025    0\n",
              "Name: Campaign Response, Length: 2026, dtype: int64"
            ]
          },
          "metadata": {
            "tags": []
          },
          "execution_count": 10
        }
      ]
    },
    {
      "cell_type": "code",
      "metadata": {
        "id": "UoWadE5l9xfD"
      },
      "source": [
        "# Model Performance Metrics Helper\n",
        "\n",
        "from sklearn.metrics import plot_roc_curve, roc_curve, roc_auc_score, auc\n",
        "from sklearn.metrics import classification_report, accuracy_score, cohen_kappa_score, f1_score\n",
        "from sklearn.metrics import log_loss, confusion_matrix, recall_score, precision_score\n",
        "\n",
        "def cv_score(y_test, y_pred, y_prob, sprint):\n",
        "    tn, fp, fn, tp = confusion_matrix(y_test, y_pred).ravel()\n",
        "    accuracy       = accuracy_score(y_test, y_pred)\n",
        "    f1             = f1_score(y_test, y_pred)\n",
        "    f1n            = f1_score(y_test, y_pred, pos_label=0)\n",
        "    macrof1        = f1_score(y_test, y_pred, average='macro')\n",
        "    recall         = recall_score(y_test, y_pred)\n",
        "    precision      = precision_score(y_test, y_pred)\n",
        "    recall_n       = recall_score(y_test, y_pred, pos_label=0)\n",
        "    precision_n    = precision_score(y_test, y_pred, pos_label=0)\n",
        "    roc_auc        = roc_auc_score(y_test, y_prob)\n",
        "    \n",
        "    df = pd.DataFrame({\"Sprint\"    : [sprint],\n",
        "                       \"Neg\"       : [tn + fn],\n",
        "                       \"TN\"  : [tn],\n",
        "                       \"FN\" : [fn],\n",
        "                       \"Pos\"       : [tp + fp],\n",
        "                       \"TP\"        : [tp],\n",
        "                       \"FP\"        : [fp],\n",
        "                       \"Accuracy\"  : [accuracy],\n",
        "                       \"Recall\"    : [recall],\n",
        "                       \"Precision\" : [precision],\n",
        "                       \"Recall 0\"  : [recall_n],\n",
        "                       \"Precision 0\":[precision_n],\n",
        "                       \"F1\"        : [f1],\n",
        "                       \"F1 0\"      : [f1n],\n",
        "                       \"Macro F1\"  : [macrof1],\n",
        "                       \"AUC\"       : [roc_auc],\n",
        "                      })\n",
        "    \n",
        "    return df\n",
        "\n",
        "score_list = [\"Sprint\", \"Neg\", \"TN\", \"FN\", \"Pos\", \"TP\", \"FP\",\n",
        "              \"Accuracy\", \"Recall\", \"Precision\", \"Recall 0\", \"Precision 0\",\n",
        "              \"F1\", \"F1 0\", \"Macro F1\", \"AUC\"]"
      ],
      "execution_count": 11,
      "outputs": []
    },
    {
      "cell_type": "code",
      "metadata": {
        "id": "ktfTgd5s9xfE"
      },
      "source": [
        "# Sampling Helper\n",
        "\n",
        "from imblearn.over_sampling import RandomOverSampler\n",
        "from imblearn.over_sampling import SMOTE\n",
        "from imblearn.over_sampling import ADASYN\n",
        "from imblearn.under_sampling import RandomUnderSampler\n",
        "\n",
        "def sampling_evaluate(X_train, X_test, y_train, y_test):\n",
        "    \n",
        "    evals = list()\n",
        "    resampe_methods = ['Base', 'Class Weights', RandomOverSampler, SMOTE, ADASYN, RandomUnderSampler]\n",
        "    names = ['Base', 'Class Weights', 'Over Sample', 'Over SMOTE', 'Over ADASYN', 'Under Sample']\n",
        "    \n",
        "    for i in range(0,6):\n",
        "        method = resampe_methods[i]\n",
        "        name = names[i]\n",
        "        cw = None\n",
        "        X_resampled, y_resampled = X_train, y_train\n",
        "\n",
        "        if method =='Class Weights':\n",
        "            cw = 'balanced'\n",
        "        elif method == 'Base':\n",
        "            pass\n",
        "        else:\n",
        "            resample_method = method\n",
        "            X_resampled, y_resampled = resample_method(random_state=0).fit_resample(X_train, y_train)\n",
        "\n",
        "        clf = DecisionTreeClassifier(random_state=0, class_weight=cw)\n",
        "        #clf = LogisticRegression(max_iter=1000, class_weight=cw, random_state=0)\n",
        "\n",
        "        clf.fit(X_resampled, y_resampled)\n",
        "        y_pred = clf.predict(X_test)\n",
        "        y_prob = pd.DataFrame(clf.predict_proba(X_test))[1]\n",
        "\n",
        "        df = cv_score(y_test, y_pred, y_prob, 0)\n",
        "        df = df.drop(\"Sprint\", axis=1)\n",
        "        df_temp = pd.DataFrame([name], columns=['Method'])\n",
        "        df = df_temp.merge(df, left_index=True, right_index=True)\n",
        "        evals.append(df)\n",
        "    \n",
        "    evals_all = pd.concat([m for m in evals], axis = 0).reset_index()\n",
        "\n",
        "    evals_all = evals_all.drop(columns = \"index\",axis =1)\n",
        "    evals_all = evals_all.sort_values(by=['Macro F1'], ascending=False)\n",
        "    \n",
        "    return evals_all"
      ],
      "execution_count": 12,
      "outputs": []
    },
    {
      "cell_type": "code",
      "metadata": {
        "colab": {
          "base_uri": "https://localhost:8080/",
          "height": 399
        },
        "id": "5HhjvbNx9xfF",
        "outputId": "231bbe1b-b1ef-4c7c-89a3-5a95282bc7f2"
      },
      "source": [
        "sampling_methods = sampling_evaluate(X_train, X_test, y_train, y_test)\n",
        "sampling_methods"
      ],
      "execution_count": 13,
      "outputs": [
        {
          "output_type": "stream",
          "text": [
            "/usr/local/lib/python3.7/dist-packages/sklearn/utils/deprecation.py:87: FutureWarning: Function safe_indexing is deprecated; safe_indexing is deprecated in version 0.22 and will be removed in version 0.24.\n",
            "  warnings.warn(msg, category=FutureWarning)\n",
            "/usr/local/lib/python3.7/dist-packages/sklearn/utils/deprecation.py:87: FutureWarning: Function safe_indexing is deprecated; safe_indexing is deprecated in version 0.22 and will be removed in version 0.24.\n",
            "  warnings.warn(msg, category=FutureWarning)\n",
            "/usr/local/lib/python3.7/dist-packages/sklearn/utils/deprecation.py:87: FutureWarning: Function safe_indexing is deprecated; safe_indexing is deprecated in version 0.22 and will be removed in version 0.24.\n",
            "  warnings.warn(msg, category=FutureWarning)\n",
            "/usr/local/lib/python3.7/dist-packages/sklearn/utils/deprecation.py:87: FutureWarning: Function safe_indexing is deprecated; safe_indexing is deprecated in version 0.22 and will be removed in version 0.24.\n",
            "  warnings.warn(msg, category=FutureWarning)\n"
          ],
          "name": "stderr"
        },
        {
          "output_type": "execute_result",
          "data": {
            "text/html": [
              "<div>\n",
              "<style scoped>\n",
              "    .dataframe tbody tr th:only-of-type {\n",
              "        vertical-align: middle;\n",
              "    }\n",
              "\n",
              "    .dataframe tbody tr th {\n",
              "        vertical-align: top;\n",
              "    }\n",
              "\n",
              "    .dataframe thead th {\n",
              "        text-align: right;\n",
              "    }\n",
              "</style>\n",
              "<table border=\"1\" class=\"dataframe\">\n",
              "  <thead>\n",
              "    <tr style=\"text-align: right;\">\n",
              "      <th></th>\n",
              "      <th>Method</th>\n",
              "      <th>Neg</th>\n",
              "      <th>TN</th>\n",
              "      <th>FN</th>\n",
              "      <th>Pos</th>\n",
              "      <th>TP</th>\n",
              "      <th>FP</th>\n",
              "      <th>Accuracy</th>\n",
              "      <th>Recall</th>\n",
              "      <th>Precision</th>\n",
              "      <th>Recall 0</th>\n",
              "      <th>Precision 0</th>\n",
              "      <th>F1</th>\n",
              "      <th>F1 0</th>\n",
              "      <th>Macro F1</th>\n",
              "      <th>AUC</th>\n",
              "    </tr>\n",
              "  </thead>\n",
              "  <tbody>\n",
              "    <tr>\n",
              "      <th>0</th>\n",
              "      <td>Base</td>\n",
              "      <td>1696</td>\n",
              "      <td>1637</td>\n",
              "      <td>59</td>\n",
              "      <td>330</td>\n",
              "      <td>266</td>\n",
              "      <td>64</td>\n",
              "      <td>0.939289</td>\n",
              "      <td>0.818462</td>\n",
              "      <td>0.806061</td>\n",
              "      <td>0.962375</td>\n",
              "      <td>0.965212</td>\n",
              "      <td>0.812214</td>\n",
              "      <td>0.963792</td>\n",
              "      <td>0.888003</td>\n",
              "      <td>0.890418</td>\n",
              "    </tr>\n",
              "    <tr>\n",
              "      <th>2</th>\n",
              "      <td>Over Sample</td>\n",
              "      <td>1699</td>\n",
              "      <td>1638</td>\n",
              "      <td>61</td>\n",
              "      <td>327</td>\n",
              "      <td>264</td>\n",
              "      <td>63</td>\n",
              "      <td>0.938796</td>\n",
              "      <td>0.812308</td>\n",
              "      <td>0.807339</td>\n",
              "      <td>0.962963</td>\n",
              "      <td>0.964097</td>\n",
              "      <td>0.809816</td>\n",
              "      <td>0.963529</td>\n",
              "      <td>0.886673</td>\n",
              "      <td>0.887635</td>\n",
              "    </tr>\n",
              "    <tr>\n",
              "      <th>3</th>\n",
              "      <td>Over SMOTE</td>\n",
              "      <td>1662</td>\n",
              "      <td>1614</td>\n",
              "      <td>48</td>\n",
              "      <td>364</td>\n",
              "      <td>277</td>\n",
              "      <td>87</td>\n",
              "      <td>0.933366</td>\n",
              "      <td>0.852308</td>\n",
              "      <td>0.760989</td>\n",
              "      <td>0.948854</td>\n",
              "      <td>0.971119</td>\n",
              "      <td>0.804064</td>\n",
              "      <td>0.959857</td>\n",
              "      <td>0.881961</td>\n",
              "      <td>0.900581</td>\n",
              "    </tr>\n",
              "    <tr>\n",
              "      <th>1</th>\n",
              "      <td>Class Weights</td>\n",
              "      <td>1700</td>\n",
              "      <td>1636</td>\n",
              "      <td>64</td>\n",
              "      <td>326</td>\n",
              "      <td>261</td>\n",
              "      <td>65</td>\n",
              "      <td>0.936328</td>\n",
              "      <td>0.803077</td>\n",
              "      <td>0.800613</td>\n",
              "      <td>0.961787</td>\n",
              "      <td>0.962353</td>\n",
              "      <td>0.801843</td>\n",
              "      <td>0.962070</td>\n",
              "      <td>0.881957</td>\n",
              "      <td>0.882432</td>\n",
              "    </tr>\n",
              "    <tr>\n",
              "      <th>4</th>\n",
              "      <td>Over ADASYN</td>\n",
              "      <td>1666</td>\n",
              "      <td>1605</td>\n",
              "      <td>61</td>\n",
              "      <td>360</td>\n",
              "      <td>264</td>\n",
              "      <td>96</td>\n",
              "      <td>0.922507</td>\n",
              "      <td>0.812308</td>\n",
              "      <td>0.733333</td>\n",
              "      <td>0.943563</td>\n",
              "      <td>0.963385</td>\n",
              "      <td>0.770803</td>\n",
              "      <td>0.953371</td>\n",
              "      <td>0.862087</td>\n",
              "      <td>0.877935</td>\n",
              "    </tr>\n",
              "    <tr>\n",
              "      <th>5</th>\n",
              "      <td>Under Sample</td>\n",
              "      <td>1590</td>\n",
              "      <td>1558</td>\n",
              "      <td>32</td>\n",
              "      <td>436</td>\n",
              "      <td>293</td>\n",
              "      <td>143</td>\n",
              "      <td>0.913623</td>\n",
              "      <td>0.901538</td>\n",
              "      <td>0.672018</td>\n",
              "      <td>0.915932</td>\n",
              "      <td>0.979874</td>\n",
              "      <td>0.770039</td>\n",
              "      <td>0.946825</td>\n",
              "      <td>0.858432</td>\n",
              "      <td>0.908735</td>\n",
              "    </tr>\n",
              "  </tbody>\n",
              "</table>\n",
              "</div>"
            ],
            "text/plain": [
              "          Method   Neg    TN  FN  ...        F1      F1 0  Macro F1       AUC\n",
              "0           Base  1696  1637  59  ...  0.812214  0.963792  0.888003  0.890418\n",
              "2    Over Sample  1699  1638  61  ...  0.809816  0.963529  0.886673  0.887635\n",
              "3     Over SMOTE  1662  1614  48  ...  0.804064  0.959857  0.881961  0.900581\n",
              "1  Class Weights  1700  1636  64  ...  0.801843  0.962070  0.881957  0.882432\n",
              "4    Over ADASYN  1666  1605  61  ...  0.770803  0.953371  0.862087  0.877935\n",
              "5   Under Sample  1590  1558  32  ...  0.770039  0.946825  0.858432  0.908735\n",
              "\n",
              "[6 rows x 16 columns]"
            ]
          },
          "metadata": {
            "tags": []
          },
          "execution_count": 13
        }
      ]
    },
    {
      "cell_type": "markdown",
      "metadata": {
        "id": "2IHIRVq29xfG"
      },
      "source": [
        "## Modelling"
      ]
    },
    {
      "cell_type": "code",
      "metadata": {
        "id": "QNK6KhT39xfH"
      },
      "source": [
        "skf = StratifiedKFold(n_splits=5)"
      ],
      "execution_count": 14,
      "outputs": []
    },
    {
      "cell_type": "code",
      "metadata": {
        "id": "qSBrbdQC9xfH"
      },
      "source": [
        "# Cross Validation Helper\n",
        "\n",
        "def train_cv(X, y, clf, cvsplit, resampling=None):\n",
        "\n",
        "    tprs = []\n",
        "    aucs = []\n",
        "    mean_fpr = np.linspace(0, 1, 100)\n",
        "\n",
        "    fig, ax = plt.subplots(figsize=(10, 8))\n",
        "\n",
        "    dt_score = pd.DataFrame(columns=score_list)\n",
        "    \n",
        "    y = y.to_numpy()\n",
        "\n",
        "    # Cross Validation Sprints\n",
        "    i = 0\n",
        "    for train_index, test_index in cvsplit.split(X, y):\n",
        "        i = i+1\n",
        "\n",
        "        X_train, X_test = X.iloc[train_index, :], X.iloc[test_index, :]\n",
        "        y_train, y_test = y[train_index], y[test_index]\n",
        "\n",
        "        print(\"\\n===========================================================\")\n",
        "        print(\"Split {}\".format(i))\n",
        "        #print(train_index)\n",
        "        #print(test_index)\n",
        "        print(\"X_train shape: {}\".format(X_train.shape))\n",
        "        print(\"X_test shape: {}\".format(X_test.shape))\n",
        "\n",
        "        if resampling != None:\n",
        "            X_resampled, y_resampled = resampling(random_state=0).fit_resample(X_train, y_train)\n",
        "        else:\n",
        "            X_resampled = X_train\n",
        "            y_resampled = y_train\n",
        "        \n",
        "        clf = clf.fit(X_resampled, y_resampled)\n",
        "\n",
        "        y_pred = clf.predict(X_test)\n",
        "        y_prob = pd.DataFrame(clf.predict_proba(X_test))[1]\n",
        "\n",
        "        # ROC Curves\n",
        "        viz = plot_roc_curve(clf, X_test, y_test,\n",
        "                             name='ROC fold {}'.format(i),\n",
        "                             alpha=0.3, lw=1, ax=ax)\n",
        "        interp_tpr = np.interp(mean_fpr, viz.fpr, viz.tpr)\n",
        "        interp_tpr[0] = 0.0\n",
        "        tprs.append(interp_tpr)\n",
        "        aucs.append(viz.roc_auc)\n",
        "\n",
        "        # Performance Metrics\n",
        "        print(\"\\nF1 Score  = {:.2f}\".format(f1_score(y_test, y_pred, average=\"macro\")))\n",
        "        print(\"Accuracy   = {:.2f}\".format(accuracy_score(y_test, y_pred)))\n",
        "        print(\"Kappa      = {:.2f}\".format(cohen_kappa_score(y_test, y_pred)))\n",
        "        print(\"Log Loss   = {:.2f}\".format(log_loss(y_test, y_pred)))\n",
        "        print(\"\\nConfusion Matrix:\")\n",
        "        unique_label = np.unique(y_pred)\n",
        "        cmtx = pd.DataFrame(\n",
        "        confusion_matrix(y_test, y_pred, labels=unique_label), \n",
        "        index=['true:{:}'.format(x) for x in unique_label], \n",
        "        columns=['pred:{:}'.format(x) for x in unique_label])\n",
        "        print(cmtx)\n",
        "        dt_score = dt_score.append(cv_score(y_test, y_pred, y_prob, i))\n",
        "        print(\"\\nClassification Report:\")\n",
        "        print(classification_report(y_test, y_pred)) \n",
        "\n",
        "    # Plot ROCs\n",
        "    ax.plot([0, 1], [0, 1], linestyle='--', lw=2, color='r',\n",
        "            label='Chance', alpha=.8)\n",
        "\n",
        "    mean_tpr = np.mean(tprs, axis=0)\n",
        "    mean_tpr[-1] = 1.0\n",
        "    mean_auc = auc(mean_fpr, mean_tpr)\n",
        "    std_auc = np.std(aucs)\n",
        "    ax.plot(mean_fpr, mean_tpr, color='b',\n",
        "            label=r'Mean ROC (AUC = %0.2f $\\pm$ %0.2f)' % (mean_auc, std_auc),\n",
        "            lw=2, alpha=.8)\n",
        "\n",
        "    std_tpr = np.std(tprs, axis=0)\n",
        "    tprs_upper = np.minimum(mean_tpr + std_tpr, 1)\n",
        "    tprs_lower = np.maximum(mean_tpr - std_tpr, 0)\n",
        "    ax.fill_between(mean_fpr, tprs_lower, tprs_upper, color='grey', alpha=.2,\n",
        "                    label=r'$\\pm$ 1 std. dev.')\n",
        "\n",
        "    ax.set(xlim=[-0.05, 1.05], ylim=[-0.05, 1.05],\n",
        "           title=\"{} ROC Curve\".format(str(clf).partition(\"(\")[0]))\n",
        "    ax.legend(loc=\"lower right\")\n",
        "    plt.show()\n",
        "    \n",
        "    # Results\n",
        "    tempdt = dt_score.mean()\n",
        "    tempdt[\"Sprint\"] = 'Mean'\n",
        "    dt_score = dt_score.append(tempdt, ignore_index=True)\n",
        "    \n",
        "    return dt_score"
      ],
      "execution_count": 15,
      "outputs": []
    },
    {
      "cell_type": "code",
      "metadata": {
        "id": "SzwQ67Vt9xfJ"
      },
      "source": [
        "result = []"
      ],
      "execution_count": 16,
      "outputs": []
    },
    {
      "cell_type": "markdown",
      "metadata": {
        "id": "fcDRD5_W9xfK"
      },
      "source": [
        "<b>Linear Regression</b>"
      ]
    },
    {
      "cell_type": "code",
      "metadata": {
        "colab": {
          "base_uri": "https://localhost:8080/",
          "height": 1000
        },
        "id": "VBilaKuQ9xfK",
        "outputId": "e67e72ca-1941-4b3c-ee78-f9a7693cb174"
      },
      "source": [
        "# Cross validation\n",
        "\n",
        "lr = LogisticRegression(max_iter=2000, random_state=42)\n",
        "\n",
        "cv_lr = train_cv(X_train, y_train, lr, skf, None)"
      ],
      "execution_count": 17,
      "outputs": [
        {
          "output_type": "stream",
          "text": [
            "\n",
            "===========================================================\n",
            "Split 1\n",
            "X_train shape: (6480, 35)\n",
            "X_test shape: (1621, 35)\n",
            "\n",
            "F1 Score  = 0.77\n",
            "Accuracy   = 0.89\n",
            "Kappa      = 0.55\n",
            "Log Loss   = 3.69\n",
            "\n",
            "Confusion Matrix:\n",
            "        pred:0  pred:1\n",
            "true:0    1316      44\n",
            "true:1     129     132\n",
            "\n",
            "Classification Report:\n",
            "              precision    recall  f1-score   support\n",
            "\n",
            "           0       0.91      0.97      0.94      1360\n",
            "           1       0.75      0.51      0.60       261\n",
            "\n",
            "    accuracy                           0.89      1621\n",
            "   macro avg       0.83      0.74      0.77      1621\n",
            "weighted avg       0.88      0.89      0.88      1621\n",
            "\n",
            "\n",
            "===========================================================\n",
            "Split 2\n",
            "X_train shape: (6481, 35)\n",
            "X_test shape: (1620, 35)\n",
            "\n",
            "F1 Score  = 0.76\n",
            "Accuracy   = 0.89\n",
            "Kappa      = 0.52\n",
            "Log Loss   = 3.88\n",
            "\n",
            "Confusion Matrix:\n",
            "        pred:0  pred:1\n",
            "true:0    1312      48\n",
            "true:1     134     126\n",
            "\n",
            "Classification Report:\n",
            "              precision    recall  f1-score   support\n",
            "\n",
            "           0       0.91      0.96      0.94      1360\n",
            "           1       0.72      0.48      0.58       260\n",
            "\n",
            "    accuracy                           0.89      1620\n",
            "   macro avg       0.82      0.72      0.76      1620\n",
            "weighted avg       0.88      0.89      0.88      1620\n",
            "\n",
            "\n",
            "===========================================================\n",
            "Split 3\n",
            "X_train shape: (6481, 35)\n",
            "X_test shape: (1620, 35)\n",
            "\n",
            "F1 Score  = 0.76\n",
            "Accuracy   = 0.89\n",
            "Kappa      = 0.51\n",
            "Log Loss   = 3.97\n",
            "\n",
            "Confusion Matrix:\n",
            "        pred:0  pred:1\n",
            "true:0    1307      53\n",
            "true:1     133     127\n",
            "\n",
            "Classification Report:\n",
            "              precision    recall  f1-score   support\n",
            "\n",
            "           0       0.91      0.96      0.93      1360\n",
            "           1       0.71      0.49      0.58       260\n",
            "\n",
            "    accuracy                           0.89      1620\n",
            "   macro avg       0.81      0.72      0.76      1620\n",
            "weighted avg       0.88      0.89      0.88      1620\n",
            "\n",
            "\n",
            "===========================================================\n",
            "Split 4\n",
            "X_train shape: (6481, 35)\n",
            "X_test shape: (1620, 35)\n",
            "\n",
            "F1 Score  = 0.75\n",
            "Accuracy   = 0.88\n",
            "Kappa      = 0.50\n",
            "Log Loss   = 4.03\n",
            "\n",
            "Confusion Matrix:\n",
            "        pred:0  pred:1\n",
            "true:0    1308      52\n",
            "true:1     137     123\n",
            "\n",
            "Classification Report:\n",
            "              precision    recall  f1-score   support\n",
            "\n",
            "           0       0.91      0.96      0.93      1360\n",
            "           1       0.70      0.47      0.57       260\n",
            "\n",
            "    accuracy                           0.88      1620\n",
            "   macro avg       0.80      0.72      0.75      1620\n",
            "weighted avg       0.87      0.88      0.87      1620\n",
            "\n",
            "\n",
            "===========================================================\n",
            "Split 5\n",
            "X_train shape: (6481, 35)\n",
            "X_test shape: (1620, 35)\n",
            "\n",
            "F1 Score  = 0.79\n",
            "Accuracy   = 0.90\n",
            "Kappa      = 0.58\n",
            "Log Loss   = 3.43\n",
            "\n",
            "Confusion Matrix:\n",
            "        pred:0  pred:1\n",
            "true:0    1318      41\n",
            "true:1     120     141\n",
            "\n",
            "Classification Report:\n",
            "              precision    recall  f1-score   support\n",
            "\n",
            "           0       0.92      0.97      0.94      1359\n",
            "           1       0.77      0.54      0.64       261\n",
            "\n",
            "    accuracy                           0.90      1620\n",
            "   macro avg       0.85      0.76      0.79      1620\n",
            "weighted avg       0.89      0.90      0.89      1620\n",
            "\n"
          ],
          "name": "stdout"
        },
        {
          "output_type": "display_data",
          "data": {
            "image/png": "[encoded data removed]",
            "text/plain": [
              "<Figure size 720x576 with 1 Axes>"
            ]
          },
          "metadata": {
            "tags": [],
            "needs_background": "light"
          }
        }
      ]
    },
    {
      "cell_type": "code",
      "metadata": {
        "colab": {
          "base_uri": "https://localhost:8080/"
        },
        "id": "TZG11hdY9xfK",
        "outputId": "b5b9ecd9-fb73-4065-e485-8def4a64d0b3"
      },
      "source": [
        "# LR model\n",
        "\n",
        "lr = LogisticRegression(max_iter=1000, random_state=42)\n",
        "lr.fit(X_train, y_train)"
      ],
      "execution_count": 18,
      "outputs": [
        {
          "output_type": "execute_result",
          "data": {
            "text/plain": [
              "LogisticRegression(C=1.0, class_weight=None, dual=False, fit_intercept=True,\n",
              "                   intercept_scaling=1, l1_ratio=None, max_iter=1000,\n",
              "                   multi_class='auto', n_jobs=None, penalty='l2',\n",
              "                   random_state=42, solver='lbfgs', tol=0.0001, verbose=0,\n",
              "                   warm_start=False)"
            ]
          },
          "metadata": {
            "tags": []
          },
          "execution_count": 18
        }
      ]
    },
    {
      "cell_type": "code",
      "metadata": {
        "id": "dEpjCWxK9xfL"
      },
      "source": [
        "y_pred = lr.predict(X_test)\n",
        "y_prob = pd.DataFrame(lr.predict_proba(X_test))[1]"
      ],
      "execution_count": 19,
      "outputs": []
    },
    {
      "cell_type": "code",
      "metadata": {
        "colab": {
          "base_uri": "https://localhost:8080/"
        },
        "id": "98svZ4Ea9xfL",
        "outputId": "c91c0654-ea01-4fc4-86c3-7fd9560049ea"
      },
      "source": [
        "y_train.count()"
      ],
      "execution_count": 20,
      "outputs": [
        {
          "output_type": "execute_result",
          "data": {
            "text/plain": [
              "8101"
            ]
          },
          "metadata": {
            "tags": []
          },
          "execution_count": 20
        }
      ]
    },
    {
      "cell_type": "code",
      "metadata": {
        "colab": {
          "base_uri": "https://localhost:8080/"
        },
        "id": "1qc9I8HB9xfM",
        "outputId": "9f44e936-1da4-43b9-e2cd-030c48724994"
      },
      "source": [
        "y_test.count()"
      ],
      "execution_count": 21,
      "outputs": [
        {
          "output_type": "execute_result",
          "data": {
            "text/plain": [
              "2026"
            ]
          },
          "metadata": {
            "tags": []
          },
          "execution_count": 21
        }
      ]
    },
    {
      "cell_type": "code",
      "metadata": {
        "id": "AhWt5w2k9xfM"
      },
      "source": [
        "result.append(cv_score(y_test, y_pred, y_prob, 'Linear Regression'))"
      ],
      "execution_count": 22,
      "outputs": []
    },
    {
      "cell_type": "markdown",
      "metadata": {
        "id": "1EoBV9Kt9xfN"
      },
      "source": [
        "<b>Decision Tree</b>"
      ]
    },
    {
      "cell_type": "code",
      "metadata": {
        "colab": {
          "base_uri": "https://localhost:8080/"
        },
        "id": "FKsfCvyR9xfN",
        "outputId": "a0262b68-150d-4088-9e1e-f7487339acfb"
      },
      "source": [
        "# Hyperparameter Tuning\n",
        "\n",
        "params = {\"criterion\":      [\"gini\", \"entropy\"],\n",
        "          \"max_depth\":      np.arange(2, 6),\n",
        "          \"max_features\":   np.arange(1, 20),\n",
        "          \"max_leaf_nodes\": np.arange(6, 10),\n",
        "         }\n",
        "\n",
        "clf = DecisionTreeClassifier(random_state=42)\n",
        "gridsearch = GridSearchCV(clf, param_grid=params, \n",
        "                          cv=5, scoring='f1_macro', return_train_score=True)\n",
        "\n",
        "gridsearch.fit(X_train, y_train)\n",
        "\n",
        "y_pred = gridsearch.predict(X_test)\n",
        "print(classification_report(y_test, y_pred))\n",
        "print(gridsearch.best_estimator_)"
      ],
      "execution_count": 23,
      "outputs": [
        {
          "output_type": "stream",
          "text": [
            "              precision    recall  f1-score   support\n",
            "\n",
            "           0       0.96      0.93      0.94      1701\n",
            "           1       0.68      0.78      0.73       325\n",
            "\n",
            "    accuracy                           0.91      2026\n",
            "   macro avg       0.82      0.85      0.84      2026\n",
            "weighted avg       0.91      0.91      0.91      2026\n",
            "\n",
            "DecisionTreeClassifier(ccp_alpha=0.0, class_weight=None, criterion='entropy',\n",
            "                       max_depth=3, max_features=19, max_leaf_nodes=6,\n",
            "                       min_impurity_decrease=0.0, min_impurity_split=None,\n",
            "                       min_samples_leaf=1, min_samples_split=2,\n",
            "                       min_weight_fraction_leaf=0.0, presort='deprecated',\n",
            "                       random_state=42, splitter='best')\n"
          ],
          "name": "stdout"
        }
      ]
    },
    {
      "cell_type": "code",
      "metadata": {
        "colab": {
          "base_uri": "https://localhost:8080/",
          "height": 1000
        },
        "id": "jYxPnzqW9xfN",
        "outputId": "231277df-ce1b-450d-bd10-76ff5f0fc916"
      },
      "source": [
        "# Cross validation\n",
        "\n",
        "dt = DecisionTreeClassifier(max_depth=5, max_features=19,\n",
        "                            max_leaf_nodes=8, random_state=42)\n",
        "\n",
        "cv_dt = train_cv(X_train, y_train, dt, skf, None)"
      ],
      "execution_count": 24,
      "outputs": [
        {
          "output_type": "stream",
          "text": [
            "\n",
            "===========================================================\n",
            "Split 1\n",
            "X_train shape: (6480, 35)\n",
            "X_test shape: (1621, 35)\n",
            "\n",
            "F1 Score  = 0.81\n",
            "Accuracy   = 0.91\n",
            "Kappa      = 0.61\n",
            "Log Loss   = 3.17\n",
            "\n",
            "Confusion Matrix:\n",
            "        pred:0  pred:1\n",
            "true:0    1324      36\n",
            "true:1     113     148\n",
            "\n",
            "Classification Report:\n",
            "              precision    recall  f1-score   support\n",
            "\n",
            "           0       0.92      0.97      0.95      1360\n",
            "           1       0.80      0.57      0.67       261\n",
            "\n",
            "    accuracy                           0.91      1621\n",
            "   macro avg       0.86      0.77      0.81      1621\n",
            "weighted avg       0.90      0.91      0.90      1621\n",
            "\n",
            "\n",
            "===========================================================\n",
            "Split 2\n",
            "X_train shape: (6481, 35)\n",
            "X_test shape: (1620, 35)\n",
            "\n",
            "F1 Score  = 0.81\n",
            "Accuracy   = 0.91\n",
            "Kappa      = 0.61\n",
            "Log Loss   = 3.24\n",
            "\n",
            "Confusion Matrix:\n",
            "        pred:0  pred:1\n",
            "true:0    1316      44\n",
            "true:1     108     152\n",
            "\n",
            "Classification Report:\n",
            "              precision    recall  f1-score   support\n",
            "\n",
            "           0       0.92      0.97      0.95      1360\n",
            "           1       0.78      0.58      0.67       260\n",
            "\n",
            "    accuracy                           0.91      1620\n",
            "   macro avg       0.85      0.78      0.81      1620\n",
            "weighted avg       0.90      0.91      0.90      1620\n",
            "\n",
            "\n",
            "===========================================================\n",
            "Split 3\n",
            "X_train shape: (6481, 35)\n",
            "X_test shape: (1620, 35)\n",
            "\n",
            "F1 Score  = 0.79\n",
            "Accuracy   = 0.90\n",
            "Kappa      = 0.58\n",
            "Log Loss   = 3.54\n",
            "\n",
            "Confusion Matrix:\n",
            "        pred:0  pred:1\n",
            "true:0    1307      53\n",
            "true:1     113     147\n",
            "\n",
            "Classification Report:\n",
            "              precision    recall  f1-score   support\n",
            "\n",
            "           0       0.92      0.96      0.94      1360\n",
            "           1       0.73      0.57      0.64       260\n",
            "\n",
            "    accuracy                           0.90      1620\n",
            "   macro avg       0.83      0.76      0.79      1620\n",
            "weighted avg       0.89      0.90      0.89      1620\n",
            "\n",
            "\n",
            "===========================================================\n",
            "Split 4\n",
            "X_train shape: (6481, 35)\n",
            "X_test shape: (1620, 35)\n",
            "\n",
            "F1 Score  = 0.82\n",
            "Accuracy   = 0.91\n",
            "Kappa      = 0.63\n",
            "Log Loss   = 3.20\n",
            "\n",
            "Confusion Matrix:\n",
            "        pred:0  pred:1\n",
            "true:0    1305      55\n",
            "true:1      95     165\n",
            "\n",
            "Classification Report:\n",
            "              precision    recall  f1-score   support\n",
            "\n",
            "           0       0.93      0.96      0.95      1360\n",
            "           1       0.75      0.63      0.69       260\n",
            "\n",
            "    accuracy                           0.91      1620\n",
            "   macro avg       0.84      0.80      0.82      1620\n",
            "weighted avg       0.90      0.91      0.90      1620\n",
            "\n",
            "\n",
            "===========================================================\n",
            "Split 5\n",
            "X_train shape: (6481, 35)\n",
            "X_test shape: (1620, 35)\n",
            "\n",
            "F1 Score  = 0.82\n",
            "Accuracy   = 0.91\n",
            "Kappa      = 0.64\n",
            "Log Loss   = 3.22\n",
            "\n",
            "Confusion Matrix:\n",
            "        pred:0  pred:1\n",
            "true:0    1301      58\n",
            "true:1      93     168\n",
            "\n",
            "Classification Report:\n",
            "              precision    recall  f1-score   support\n",
            "\n",
            "           0       0.93      0.96      0.95      1359\n",
            "           1       0.74      0.64      0.69       261\n",
            "\n",
            "    accuracy                           0.91      1620\n",
            "   macro avg       0.84      0.80      0.82      1620\n",
            "weighted avg       0.90      0.91      0.90      1620\n",
            "\n"
          ],
          "name": "stdout"
        },
        {
          "output_type": "display_data",
          "data": {
            "image/png": "[encoded data removed]",
            "text/plain": [
              "<Figure size 720x576 with 1 Axes>"
            ]
          },
          "metadata": {
            "tags": [],
            "needs_background": "light"
          }
        }
      ]
    },
    {
      "cell_type": "code",
      "metadata": {
        "colab": {
          "base_uri": "https://localhost:8080/"
        },
        "id": "WI2igovF9xfO",
        "outputId": "e04a02a4-0d33-4343-e85c-b8c0241503eb"
      },
      "source": [
        "# DT model\n",
        "\n",
        "dt = DecisionTreeClassifier(max_depth=5, max_features=19,\n",
        "                            max_leaf_nodes=8, random_state=42)\n",
        "dt.fit(X_train, y_train)"
      ],
      "execution_count": 25,
      "outputs": [
        {
          "output_type": "execute_result",
          "data": {
            "text/plain": [
              "DecisionTreeClassifier(ccp_alpha=0.0, class_weight=None, criterion='gini',\n",
              "                       max_depth=5, max_features=19, max_leaf_nodes=8,\n",
              "                       min_impurity_decrease=0.0, min_impurity_split=None,\n",
              "                       min_samples_leaf=1, min_samples_split=2,\n",
              "                       min_weight_fraction_leaf=0.0, presort='deprecated',\n",
              "                       random_state=42, splitter='best')"
            ]
          },
          "metadata": {
            "tags": []
          },
          "execution_count": 25
        }
      ]
    },
    {
      "cell_type": "code",
      "metadata": {
        "id": "I-MyWrSN9xfO"
      },
      "source": [
        "y_pred = dt.predict(X_test)\n",
        "y_prob = pd.DataFrame(dt.predict_proba(X_test))[1]"
      ],
      "execution_count": 26,
      "outputs": []
    },
    {
      "cell_type": "code",
      "metadata": {
        "id": "M7BW2H6i9xfO"
      },
      "source": [
        "result.append(cv_score(y_test, y_pred, y_prob, 'Decision Tree'))"
      ],
      "execution_count": 27,
      "outputs": []
    },
    {
      "cell_type": "code",
      "metadata": {
        "colab": {
          "base_uri": "https://localhost:8080/"
        },
        "id": "dPRsg7M59xfO",
        "outputId": "68cd3791-814c-4450-bb55-fed330def87b"
      },
      "source": [
        "dt.feature_importances_\n"
      ],
      "execution_count": 28,
      "outputs": [
        {
          "output_type": "execute_result",
          "data": {
            "text/plain": [
              "array([0.        , 0.        , 0.11810178, 0.        , 0.        ,\n",
              "       0.        , 0.33649551, 0.        , 0.0365688 , 0.08801155,\n",
              "       0.37424184, 0.04658052, 0.        , 0.        , 0.        ,\n",
              "       0.        , 0.        , 0.        , 0.        , 0.        ,\n",
              "       0.        , 0.        , 0.        , 0.        , 0.        ,\n",
              "       0.        , 0.        , 0.        , 0.        , 0.        ,\n",
              "       0.        , 0.        , 0.        , 0.        , 0.        ])"
            ]
          },
          "metadata": {
            "tags": []
          },
          "execution_count": 28
        }
      ]
    },
    {
      "cell_type": "code",
      "metadata": {
        "colab": {
          "base_uri": "https://localhost:8080/"
        },
        "id": "kaSrz3PX9xfO",
        "outputId": "3c96df68-2626-4b80-ec44-bc735eedf038"
      },
      "source": [
        "for importance, name in sorted(zip(dt.feature_importances_, X_train.columns),reverse=True)[:6]:\n",
        "    print (name, importance)"
      ],
      "execution_count": 29,
      "outputs": [
        {
          "output_type": "stream",
          "text": [
            "Total_Trans_Ct 0.374241841053521\n",
            "Total_Revolving_Bal 0.3364955130080712\n",
            "Total_Relationship_Count 0.11810177648986968\n",
            "Total_Trans_Amt 0.08801155270815553\n",
            "Total_Ct_Chng_Q4_Q1 0.04658051830186453\n",
            "Total_Amt_Chng_Q4_Q1 0.036568798438518076\n"
          ],
          "name": "stdout"
        }
      ]
    },
    {
      "cell_type": "code",
      "metadata": {
        "colab": {
          "base_uri": "https://localhost:8080/",
          "height": 80
        },
        "id": "g6iMIca_9xfP",
        "outputId": "5f9e2ce3-196e-40d3-b171-d689fe34608b"
      },
      "source": [
        "# Model with only important features\n",
        "\n",
        "imp_features = ['Total_Trans_Ct', 'Total_Trans_Amt', 'Total_Relationship_Count', 'Total_Amt_Chng_Q4_Q1', 'Total_Revolving_Bal', 'Total_Ct_Chng_Q4_Q1']\n",
        "X_train2 = X_train[imp_features]\n",
        "X_test2 = X_test[imp_features]\n",
        "dt2 = DecisionTreeClassifier(max_depth=5,\n",
        "                            max_leaf_nodes=8, random_state=42)\n",
        "dt2.fit(X_train2, y_train)\n",
        "y_pred = dt2.predict(X_test2)\n",
        "y_prob = pd.DataFrame(dt2.predict_proba(X_test2))[1]\n",
        "cv_score(y_test, y_pred, y_prob, 'Decision Tree')"
      ],
      "execution_count": 30,
      "outputs": [
        {
          "output_type": "execute_result",
          "data": {
            "text/html": [
              "<div>\n",
              "<style scoped>\n",
              "    .dataframe tbody tr th:only-of-type {\n",
              "        vertical-align: middle;\n",
              "    }\n",
              "\n",
              "    .dataframe tbody tr th {\n",
              "        vertical-align: top;\n",
              "    }\n",
              "\n",
              "    .dataframe thead th {\n",
              "        text-align: right;\n",
              "    }\n",
              "</style>\n",
              "<table border=\"1\" class=\"dataframe\">\n",
              "  <thead>\n",
              "    <tr style=\"text-align: right;\">\n",
              "      <th></th>\n",
              "      <th>Sprint</th>\n",
              "      <th>Neg</th>\n",
              "      <th>TN</th>\n",
              "      <th>FN</th>\n",
              "      <th>Pos</th>\n",
              "      <th>TP</th>\n",
              "      <th>FP</th>\n",
              "      <th>Accuracy</th>\n",
              "      <th>Recall</th>\n",
              "      <th>Precision</th>\n",
              "      <th>Recall 0</th>\n",
              "      <th>Precision 0</th>\n",
              "      <th>F1</th>\n",
              "      <th>F1 0</th>\n",
              "      <th>Macro F1</th>\n",
              "      <th>AUC</th>\n",
              "    </tr>\n",
              "  </thead>\n",
              "  <tbody>\n",
              "    <tr>\n",
              "      <th>0</th>\n",
              "      <td>Decision Tree</td>\n",
              "      <td>1748</td>\n",
              "      <td>1637</td>\n",
              "      <td>111</td>\n",
              "      <td>278</td>\n",
              "      <td>214</td>\n",
              "      <td>64</td>\n",
              "      <td>0.913623</td>\n",
              "      <td>0.658462</td>\n",
              "      <td>0.769784</td>\n",
              "      <td>0.962375</td>\n",
              "      <td>0.936499</td>\n",
              "      <td>0.709784</td>\n",
              "      <td>0.949261</td>\n",
              "      <td>0.829523</td>\n",
              "      <td>0.919896</td>\n",
              "    </tr>\n",
              "  </tbody>\n",
              "</table>\n",
              "</div>"
            ],
            "text/plain": [
              "          Sprint   Neg    TN   FN  ...        F1      F1 0  Macro F1       AUC\n",
              "0  Decision Tree  1748  1637  111  ...  0.709784  0.949261  0.829523  0.919896\n",
              "\n",
              "[1 rows x 16 columns]"
            ]
          },
          "metadata": {
            "tags": []
          },
          "execution_count": 30
        }
      ]
    },
    {
      "cell_type": "code",
      "metadata": {
        "colab": {
          "base_uri": "https://localhost:8080/"
        },
        "id": "mUYQpL7O9xfP",
        "outputId": "48e6ec26-0a51-4c75-980a-f9a9353cd12a"
      },
      "source": [
        "for importance, name in sorted(zip(dt2.feature_importances_, X_train2.columns),reverse=True)[:6]:\n",
        "    print (name, importance)"
      ],
      "execution_count": 31,
      "outputs": [
        {
          "output_type": "stream",
          "text": [
            "Total_Trans_Ct 0.3721835365805402\n",
            "Total_Revolving_Bal 0.3346448107519773\n",
            "Total_Relationship_Count 0.11745222481458997\n",
            "Total_Ct_Chng_Q4_Q1 0.0881919326517845\n",
            "Total_Trans_Amt 0.08752749520110817\n",
            "Total_Amt_Chng_Q4_Q1 0.0\n"
          ],
          "name": "stdout"
        }
      ]
    },
    {
      "cell_type": "markdown",
      "metadata": {
        "id": "ck4AxfSb9xfP"
      },
      "source": [
        "<b>Naive Bayers"
      ]
    },
    {
      "cell_type": "code",
      "metadata": {
        "colab": {
          "base_uri": "https://localhost:8080/",
          "height": 1000
        },
        "id": "Sv8QKrX79xfP",
        "outputId": "166a0a40-64bc-4a8b-c38d-bc4d03a414fb"
      },
      "source": [
        "gnb = GaussianNB()\n",
        "\n",
        "cv_gnb = train_cv(X_train, y_train, gnb, skf, None)"
      ],
      "execution_count": 32,
      "outputs": [
        {
          "output_type": "stream",
          "text": [
            "\n",
            "===========================================================\n",
            "Split 1\n",
            "X_train shape: (6480, 35)\n",
            "X_test shape: (1621, 35)\n",
            "\n",
            "F1 Score  = 0.80\n",
            "Accuracy   = 0.90\n",
            "Kappa      = 0.60\n",
            "Log Loss   = 3.52\n",
            "\n",
            "Confusion Matrix:\n",
            "        pred:0  pred:1\n",
            "true:0    1299      61\n",
            "true:1     104     157\n",
            "\n",
            "Classification Report:\n",
            "              precision    recall  f1-score   support\n",
            "\n",
            "           0       0.93      0.96      0.94      1360\n",
            "           1       0.72      0.60      0.66       261\n",
            "\n",
            "    accuracy                           0.90      1621\n",
            "   macro avg       0.82      0.78      0.80      1621\n",
            "weighted avg       0.89      0.90      0.89      1621\n",
            "\n",
            "\n",
            "===========================================================\n",
            "Split 2\n",
            "X_train shape: (6481, 35)\n",
            "X_test shape: (1620, 35)\n",
            "\n",
            "F1 Score  = 0.81\n",
            "Accuracy   = 0.90\n",
            "Kappa      = 0.62\n",
            "Log Loss   = 3.39\n",
            "\n",
            "Confusion Matrix:\n",
            "        pred:0  pred:1\n",
            "true:0    1291      69\n",
            "true:1      90     170\n",
            "\n",
            "Classification Report:\n",
            "              precision    recall  f1-score   support\n",
            "\n",
            "           0       0.93      0.95      0.94      1360\n",
            "           1       0.71      0.65      0.68       260\n",
            "\n",
            "    accuracy                           0.90      1620\n",
            "   macro avg       0.82      0.80      0.81      1620\n",
            "weighted avg       0.90      0.90      0.90      1620\n",
            "\n",
            "\n",
            "===========================================================\n",
            "Split 3\n",
            "X_train shape: (6481, 35)\n",
            "X_test shape: (1620, 35)\n",
            "\n",
            "F1 Score  = 0.79\n",
            "Accuracy   = 0.90\n",
            "Kappa      = 0.59\n",
            "Log Loss   = 3.62\n",
            "\n",
            "Confusion Matrix:\n",
            "        pred:0  pred:1\n",
            "true:0    1294      66\n",
            "true:1     104     156\n",
            "\n",
            "Classification Report:\n",
            "              precision    recall  f1-score   support\n",
            "\n",
            "           0       0.93      0.95      0.94      1360\n",
            "           1       0.70      0.60      0.65       260\n",
            "\n",
            "    accuracy                           0.90      1620\n",
            "   macro avg       0.81      0.78      0.79      1620\n",
            "weighted avg       0.89      0.90      0.89      1620\n",
            "\n",
            "\n",
            "===========================================================\n",
            "Split 4\n",
            "X_train shape: (6481, 35)\n",
            "X_test shape: (1620, 35)\n",
            "\n",
            "F1 Score  = 0.78\n",
            "Accuracy   = 0.89\n",
            "Kappa      = 0.56\n",
            "Log Loss   = 3.82\n",
            "\n",
            "Confusion Matrix:\n",
            "        pred:0  pred:1\n",
            "true:0    1289      71\n",
            "true:1     108     152\n",
            "\n",
            "Classification Report:\n",
            "              precision    recall  f1-score   support\n",
            "\n",
            "           0       0.92      0.95      0.94      1360\n",
            "           1       0.68      0.58      0.63       260\n",
            "\n",
            "    accuracy                           0.89      1620\n",
            "   macro avg       0.80      0.77      0.78      1620\n",
            "weighted avg       0.88      0.89      0.89      1620\n",
            "\n",
            "\n",
            "===========================================================\n",
            "Split 5\n",
            "X_train shape: (6481, 35)\n",
            "X_test shape: (1620, 35)\n",
            "\n",
            "F1 Score  = 0.82\n",
            "Accuracy   = 0.91\n",
            "Kappa      = 0.64\n",
            "Log Loss   = 3.18\n",
            "\n",
            "Confusion Matrix:\n",
            "        pred:0  pred:1\n",
            "true:0    1302      57\n",
            "true:1      92     169\n",
            "\n",
            "Classification Report:\n",
            "              precision    recall  f1-score   support\n",
            "\n",
            "           0       0.93      0.96      0.95      1359\n",
            "           1       0.75      0.65      0.69       261\n",
            "\n",
            "    accuracy                           0.91      1620\n",
            "   macro avg       0.84      0.80      0.82      1620\n",
            "weighted avg       0.90      0.91      0.91      1620\n",
            "\n"
          ],
          "name": "stdout"
        },
        {
          "output_type": "display_data",
          "data": {
            "image/png": "[encoded data removed]",
            "text/plain": [
              "<Figure size 720x576 with 1 Axes>"
            ]
          },
          "metadata": {
            "tags": [],
            "needs_background": "light"
          }
        }
      ]
    },
    {
      "cell_type": "code",
      "metadata": {
        "id": "Q7ETOXGy9xfP"
      },
      "source": [
        "gnb.fit(X_train, y_train)\n",
        "y_pred = gnb.predict(X_test)\n",
        "y_prob = pd.DataFrame(gnb.predict_proba(X_test))[1]"
      ],
      "execution_count": 33,
      "outputs": []
    },
    {
      "cell_type": "code",
      "metadata": {
        "id": "AEaMDqLR9xfP"
      },
      "source": [
        "result.append(cv_score(y_test, y_pred, y_prob, 'Naïve Bayers'))"
      ],
      "execution_count": 34,
      "outputs": []
    },
    {
      "cell_type": "markdown",
      "metadata": {
        "id": "PfXRl57E9xfQ"
      },
      "source": [
        "<b>Random Forest"
      ]
    },
    {
      "cell_type": "code",
      "metadata": {
        "colab": {
          "base_uri": "https://localhost:8080/"
        },
        "id": "Lk9r5K489xfQ",
        "outputId": "b1063d97-8174-4af3-9217-fff650bf3255"
      },
      "source": [
        "# Hyperparameter Tuning\n",
        "\n",
        "params = {\"criterion\":      [\"gini\", \"entropy\"],\n",
        "          \"max_depth\":      np.arange(2, 6),\n",
        "          \"max_features\":   np.arange(1, 20),\n",
        "          \"max_leaf_nodes\": np.arange(6, 10),\n",
        "         }\n",
        "\n",
        "clf = RandomForestClassifier(random_state=42)\n",
        "gridsearch = GridSearchCV(clf, param_grid=params, \n",
        "                          cv=5, scoring='f1_macro', return_train_score=True)\n",
        "\n",
        "gridsearch.fit(X_train, y_train)\n",
        "\n",
        "y_pred = gridsearch.predict(X_test)\n",
        "print(classification_report(y_test, y_pred))\n",
        "print(gridsearch.best_estimator_)"
      ],
      "execution_count": 35,
      "outputs": [
        {
          "output_type": "stream",
          "text": [
            "              precision    recall  f1-score   support\n",
            "\n",
            "           0       0.95      0.96      0.95      1701\n",
            "           1       0.77      0.72      0.75       325\n",
            "\n",
            "    accuracy                           0.92      2026\n",
            "   macro avg       0.86      0.84      0.85      2026\n",
            "weighted avg       0.92      0.92      0.92      2026\n",
            "\n",
            "RandomForestClassifier(bootstrap=True, ccp_alpha=0.0, class_weight=None,\n",
            "                       criterion='entropy', max_depth=5, max_features=19,\n",
            "                       max_leaf_nodes=9, max_samples=None,\n",
            "                       min_impurity_decrease=0.0, min_impurity_split=None,\n",
            "                       min_samples_leaf=1, min_samples_split=2,\n",
            "                       min_weight_fraction_leaf=0.0, n_estimators=100,\n",
            "                       n_jobs=None, oob_score=False, random_state=42, verbose=0,\n",
            "                       warm_start=False)\n"
          ],
          "name": "stdout"
        }
      ]
    },
    {
      "cell_type": "code",
      "metadata": {
        "colab": {
          "base_uri": "https://localhost:8080/",
          "height": 1000
        },
        "id": "jts88scq9xfQ",
        "outputId": "be683f2b-582b-4744-e103-84d8c5111680"
      },
      "source": [
        "rf = RandomForestClassifier(max_depth=5, max_features=19,\n",
        "                       max_leaf_nodes=9, random_state=42)\n",
        "cv_rf = train_cv(X_train, y_train, rf, skf, None)"
      ],
      "execution_count": 36,
      "outputs": [
        {
          "output_type": "stream",
          "text": [
            "\n",
            "===========================================================\n",
            "Split 1\n",
            "X_train shape: (6480, 35)\n",
            "X_test shape: (1621, 35)\n",
            "\n",
            "F1 Score  = 0.91\n",
            "Accuracy   = 0.95\n",
            "Kappa      = 0.82\n",
            "Log Loss   = 1.56\n",
            "\n",
            "Confusion Matrix:\n",
            "        pred:0  pred:1\n",
            "true:0    1347      13\n",
            "true:1      60     201\n",
            "\n",
            "Classification Report:\n",
            "              precision    recall  f1-score   support\n",
            "\n",
            "           0       0.96      0.99      0.97      1360\n",
            "           1       0.94      0.77      0.85       261\n",
            "\n",
            "    accuracy                           0.95      1621\n",
            "   macro avg       0.95      0.88      0.91      1621\n",
            "weighted avg       0.95      0.95      0.95      1621\n",
            "\n",
            "\n",
            "===========================================================\n",
            "Split 2\n",
            "X_train shape: (6481, 35)\n",
            "X_test shape: (1620, 35)\n",
            "\n",
            "F1 Score  = 0.90\n",
            "Accuracy   = 0.95\n",
            "Kappa      = 0.79\n",
            "Log Loss   = 1.77\n",
            "\n",
            "Confusion Matrix:\n",
            "        pred:0  pred:1\n",
            "true:0    1345      15\n",
            "true:1      68     192\n",
            "\n",
            "Classification Report:\n",
            "              precision    recall  f1-score   support\n",
            "\n",
            "           0       0.95      0.99      0.97      1360\n",
            "           1       0.93      0.74      0.82       260\n",
            "\n",
            "    accuracy                           0.95      1620\n",
            "   macro avg       0.94      0.86      0.90      1620\n",
            "weighted avg       0.95      0.95      0.95      1620\n",
            "\n",
            "\n",
            "===========================================================\n",
            "Split 3\n",
            "X_train shape: (6481, 35)\n",
            "X_test shape: (1620, 35)\n",
            "\n",
            "F1 Score  = 0.88\n",
            "Accuracy   = 0.94\n",
            "Kappa      = 0.76\n",
            "Log Loss   = 2.07\n",
            "\n",
            "Confusion Matrix:\n",
            "        pred:0  pred:1\n",
            "true:0    1337      23\n",
            "true:1      74     186\n",
            "\n",
            "Classification Report:\n",
            "              precision    recall  f1-score   support\n",
            "\n",
            "           0       0.95      0.98      0.96      1360\n",
            "           1       0.89      0.72      0.79       260\n",
            "\n",
            "    accuracy                           0.94      1620\n",
            "   macro avg       0.92      0.85      0.88      1620\n",
            "weighted avg       0.94      0.94      0.94      1620\n",
            "\n",
            "\n",
            "===========================================================\n",
            "Split 4\n",
            "X_train shape: (6481, 35)\n",
            "X_test shape: (1620, 35)\n",
            "\n",
            "F1 Score  = 0.90\n",
            "Accuracy   = 0.95\n",
            "Kappa      = 0.80\n",
            "Log Loss   = 1.71\n",
            "\n",
            "Confusion Matrix:\n",
            "        pred:0  pred:1\n",
            "true:0    1342      18\n",
            "true:1      62     198\n",
            "\n",
            "Classification Report:\n",
            "              precision    recall  f1-score   support\n",
            "\n",
            "           0       0.96      0.99      0.97      1360\n",
            "           1       0.92      0.76      0.83       260\n",
            "\n",
            "    accuracy                           0.95      1620\n",
            "   macro avg       0.94      0.87      0.90      1620\n",
            "weighted avg       0.95      0.95      0.95      1620\n",
            "\n",
            "\n",
            "===========================================================\n",
            "Split 5\n",
            "X_train shape: (6481, 35)\n",
            "X_test shape: (1620, 35)\n",
            "\n",
            "F1 Score  = 0.90\n",
            "Accuracy   = 0.95\n",
            "Kappa      = 0.80\n",
            "Log Loss   = 1.75\n",
            "\n",
            "Confusion Matrix:\n",
            "        pred:0  pred:1\n",
            "true:0    1342      17\n",
            "true:1      65     196\n",
            "\n",
            "Classification Report:\n",
            "              precision    recall  f1-score   support\n",
            "\n",
            "           0       0.95      0.99      0.97      1359\n",
            "           1       0.92      0.75      0.83       261\n",
            "\n",
            "    accuracy                           0.95      1620\n",
            "   macro avg       0.94      0.87      0.90      1620\n",
            "weighted avg       0.95      0.95      0.95      1620\n",
            "\n"
          ],
          "name": "stdout"
        },
        {
          "output_type": "display_data",
          "data": {
            "image/png": "[encoded data removed]",
            "text/plain": [
              "<Figure size 720x576 with 1 Axes>"
            ]
          },
          "metadata": {
            "tags": [],
            "needs_background": "light"
          }
        }
      ]
    },
    {
      "cell_type": "code",
      "metadata": {
        "id": "d3RczSkq9xfQ"
      },
      "source": [
        "rf.fit(X_train, y_train)\n",
        "y_pred = rf.predict(X_test)\n",
        "y_prob = pd.DataFrame(rf.predict_proba(X_test))[1]"
      ],
      "execution_count": 37,
      "outputs": []
    },
    {
      "cell_type": "code",
      "metadata": {
        "id": "NBWAr1CT9xfQ"
      },
      "source": [
        "result.append(cv_score(y_test, y_pred, y_prob, 'Random Forest'))"
      ],
      "execution_count": 38,
      "outputs": []
    },
    {
      "cell_type": "markdown",
      "metadata": {
        "id": "OkwYdgcV9xfQ"
      },
      "source": [
        "<b>Gradient Boosting"
      ]
    },
    {
      "cell_type": "code",
      "metadata": {
        "colab": {
          "base_uri": "https://localhost:8080/",
          "height": 1000
        },
        "id": "JOjj2u9s9xfR",
        "outputId": "650d7c4c-f3ab-40ca-b10e-e7b0d5b6ef52"
      },
      "source": [
        "GBM = GradientBoostingClassifier(max_depth=5, max_features=19,\n",
        "                            max_leaf_nodes=8, random_state=42)\n",
        "cv_GBM = train_cv(X_train, y_train, GBM, skf, None)"
      ],
      "execution_count": 39,
      "outputs": [
        {
          "output_type": "stream",
          "text": [
            "\n",
            "===========================================================\n",
            "Split 1\n",
            "X_train shape: (6480, 35)\n",
            "X_test shape: (1621, 35)\n",
            "\n",
            "F1 Score  = 0.94\n",
            "Accuracy   = 0.97\n",
            "Kappa      = 0.88\n",
            "Log Loss   = 1.11\n",
            "\n",
            "Confusion Matrix:\n",
            "        pred:0  pred:1\n",
            "true:0    1346      14\n",
            "true:1      38     223\n",
            "\n",
            "Classification Report:\n",
            "              precision    recall  f1-score   support\n",
            "\n",
            "           0       0.97      0.99      0.98      1360\n",
            "           1       0.94      0.85      0.90       261\n",
            "\n",
            "    accuracy                           0.97      1621\n",
            "   macro avg       0.96      0.92      0.94      1621\n",
            "weighted avg       0.97      0.97      0.97      1621\n",
            "\n",
            "\n",
            "===========================================================\n",
            "Split 2\n",
            "X_train shape: (6481, 35)\n",
            "X_test shape: (1620, 35)\n",
            "\n",
            "F1 Score  = 0.93\n",
            "Accuracy   = 0.97\n",
            "Kappa      = 0.87\n",
            "Log Loss   = 1.17\n",
            "\n",
            "Confusion Matrix:\n",
            "        pred:0  pred:1\n",
            "true:0    1350      10\n",
            "true:1      45     215\n",
            "\n",
            "Classification Report:\n",
            "              precision    recall  f1-score   support\n",
            "\n",
            "           0       0.97      0.99      0.98      1360\n",
            "           1       0.96      0.83      0.89       260\n",
            "\n",
            "    accuracy                           0.97      1620\n",
            "   macro avg       0.96      0.91      0.93      1620\n",
            "weighted avg       0.97      0.97      0.97      1620\n",
            "\n",
            "\n",
            "===========================================================\n",
            "Split 3\n",
            "X_train shape: (6481, 35)\n",
            "X_test shape: (1620, 35)\n",
            "\n",
            "F1 Score  = 0.93\n",
            "Accuracy   = 0.96\n",
            "Kappa      = 0.86\n",
            "Log Loss   = 1.30\n",
            "\n",
            "Confusion Matrix:\n",
            "        pred:0  pred:1\n",
            "true:0    1340      20\n",
            "true:1      41     219\n",
            "\n",
            "Classification Report:\n",
            "              precision    recall  f1-score   support\n",
            "\n",
            "           0       0.97      0.99      0.98      1360\n",
            "           1       0.92      0.84      0.88       260\n",
            "\n",
            "    accuracy                           0.96      1620\n",
            "   macro avg       0.94      0.91      0.93      1620\n",
            "weighted avg       0.96      0.96      0.96      1620\n",
            "\n",
            "\n",
            "===========================================================\n",
            "Split 4\n",
            "X_train shape: (6481, 35)\n",
            "X_test shape: (1620, 35)\n",
            "\n",
            "F1 Score  = 0.93\n",
            "Accuracy   = 0.97\n",
            "Kappa      = 0.87\n",
            "Log Loss   = 1.17\n",
            "\n",
            "Confusion Matrix:\n",
            "        pred:0  pred:1\n",
            "true:0    1344      16\n",
            "true:1      39     221\n",
            "\n",
            "Classification Report:\n",
            "              precision    recall  f1-score   support\n",
            "\n",
            "           0       0.97      0.99      0.98      1360\n",
            "           1       0.93      0.85      0.89       260\n",
            "\n",
            "    accuracy                           0.97      1620\n",
            "   macro avg       0.95      0.92      0.93      1620\n",
            "weighted avg       0.97      0.97      0.97      1620\n",
            "\n",
            "\n",
            "===========================================================\n",
            "Split 5\n",
            "X_train shape: (6481, 35)\n",
            "X_test shape: (1620, 35)\n",
            "\n",
            "F1 Score  = 0.94\n",
            "Accuracy   = 0.97\n",
            "Kappa      = 0.88\n",
            "Log Loss   = 1.09\n",
            "\n",
            "Confusion Matrix:\n",
            "        pred:0  pred:1\n",
            "true:0    1342      17\n",
            "true:1      34     227\n",
            "\n",
            "Classification Report:\n",
            "              precision    recall  f1-score   support\n",
            "\n",
            "           0       0.98      0.99      0.98      1359\n",
            "           1       0.93      0.87      0.90       261\n",
            "\n",
            "    accuracy                           0.97      1620\n",
            "   macro avg       0.95      0.93      0.94      1620\n",
            "weighted avg       0.97      0.97      0.97      1620\n",
            "\n"
          ],
          "name": "stdout"
        },
        {
          "output_type": "display_data",
          "data": {
            "image/png": "[encoded data removed]",
            "text/plain": [
              "<Figure size 720x576 with 1 Axes>"
            ]
          },
          "metadata": {
            "tags": [],
            "needs_background": "light"
          }
        }
      ]
    },
    {
      "cell_type": "code",
      "metadata": {
        "id": "07J7Q_7f9xfR"
      },
      "source": [
        "GBM.fit(X_train, y_train)\n",
        "y_pred = GBM.predict(X_test)\n",
        "y_prob = pd.DataFrame(GBM.predict_proba(X_test))[1]"
      ],
      "execution_count": 40,
      "outputs": []
    },
    {
      "cell_type": "code",
      "metadata": {
        "id": "qQoBSQZh9xfR"
      },
      "source": [
        "result.append(cv_score(y_test, y_pred, y_prob, 'Gradient Boosting'))"
      ],
      "execution_count": 41,
      "outputs": []
    },
    {
      "cell_type": "code",
      "metadata": {
        "colab": {
          "base_uri": "https://localhost:8080/",
          "height": 204
        },
        "id": "t7Y6Qpyx9xfR",
        "outputId": "d985ad0f-5330-4839-b407-1e53fa4ba9ba"
      },
      "source": [
        "# result\n",
        "\n",
        "pd.concat(result)"
      ],
      "execution_count": 42,
      "outputs": [
        {
          "output_type": "execute_result",
          "data": {
            "text/html": [
              "<div>\n",
              "<style scoped>\n",
              "    .dataframe tbody tr th:only-of-type {\n",
              "        vertical-align: middle;\n",
              "    }\n",
              "\n",
              "    .dataframe tbody tr th {\n",
              "        vertical-align: top;\n",
              "    }\n",
              "\n",
              "    .dataframe thead th {\n",
              "        text-align: right;\n",
              "    }\n",
              "</style>\n",
              "<table border=\"1\" class=\"dataframe\">\n",
              "  <thead>\n",
              "    <tr style=\"text-align: right;\">\n",
              "      <th></th>\n",
              "      <th>Sprint</th>\n",
              "      <th>Neg</th>\n",
              "      <th>TN</th>\n",
              "      <th>FN</th>\n",
              "      <th>Pos</th>\n",
              "      <th>TP</th>\n",
              "      <th>FP</th>\n",
              "      <th>Accuracy</th>\n",
              "      <th>Recall</th>\n",
              "      <th>Precision</th>\n",
              "      <th>Recall 0</th>\n",
              "      <th>Precision 0</th>\n",
              "      <th>F1</th>\n",
              "      <th>F1 0</th>\n",
              "      <th>Macro F1</th>\n",
              "      <th>AUC</th>\n",
              "    </tr>\n",
              "  </thead>\n",
              "  <tbody>\n",
              "    <tr>\n",
              "      <th>0</th>\n",
              "      <td>Linear Regression</td>\n",
              "      <td>1805</td>\n",
              "      <td>1646</td>\n",
              "      <td>159</td>\n",
              "      <td>221</td>\n",
              "      <td>166</td>\n",
              "      <td>55</td>\n",
              "      <td>0.894373</td>\n",
              "      <td>0.510769</td>\n",
              "      <td>0.751131</td>\n",
              "      <td>0.967666</td>\n",
              "      <td>0.911911</td>\n",
              "      <td>0.608059</td>\n",
              "      <td>0.938962</td>\n",
              "      <td>0.773510</td>\n",
              "      <td>0.900983</td>\n",
              "    </tr>\n",
              "    <tr>\n",
              "      <th>0</th>\n",
              "      <td>Decision Tree</td>\n",
              "      <td>1740</td>\n",
              "      <td>1632</td>\n",
              "      <td>108</td>\n",
              "      <td>286</td>\n",
              "      <td>217</td>\n",
              "      <td>69</td>\n",
              "      <td>0.912636</td>\n",
              "      <td>0.667692</td>\n",
              "      <td>0.758741</td>\n",
              "      <td>0.959436</td>\n",
              "      <td>0.937931</td>\n",
              "      <td>0.710311</td>\n",
              "      <td>0.948561</td>\n",
              "      <td>0.829436</td>\n",
              "      <td>0.918955</td>\n",
              "    </tr>\n",
              "    <tr>\n",
              "      <th>0</th>\n",
              "      <td>Naïve Bayers</td>\n",
              "      <td>1754</td>\n",
              "      <td>1626</td>\n",
              "      <td>128</td>\n",
              "      <td>272</td>\n",
              "      <td>197</td>\n",
              "      <td>75</td>\n",
              "      <td>0.899803</td>\n",
              "      <td>0.606154</td>\n",
              "      <td>0.724265</td>\n",
              "      <td>0.955908</td>\n",
              "      <td>0.927024</td>\n",
              "      <td>0.659966</td>\n",
              "      <td>0.941245</td>\n",
              "      <td>0.800606</td>\n",
              "      <td>0.877858</td>\n",
              "    </tr>\n",
              "    <tr>\n",
              "      <th>0</th>\n",
              "      <td>Random Forest</td>\n",
              "      <td>1757</td>\n",
              "      <td>1686</td>\n",
              "      <td>71</td>\n",
              "      <td>269</td>\n",
              "      <td>254</td>\n",
              "      <td>15</td>\n",
              "      <td>0.957552</td>\n",
              "      <td>0.781538</td>\n",
              "      <td>0.944238</td>\n",
              "      <td>0.991182</td>\n",
              "      <td>0.959590</td>\n",
              "      <td>0.855219</td>\n",
              "      <td>0.975130</td>\n",
              "      <td>0.915174</td>\n",
              "      <td>0.987027</td>\n",
              "    </tr>\n",
              "    <tr>\n",
              "      <th>0</th>\n",
              "      <td>Gradient Boosting</td>\n",
              "      <td>1727</td>\n",
              "      <td>1683</td>\n",
              "      <td>44</td>\n",
              "      <td>299</td>\n",
              "      <td>281</td>\n",
              "      <td>18</td>\n",
              "      <td>0.969398</td>\n",
              "      <td>0.864615</td>\n",
              "      <td>0.939799</td>\n",
              "      <td>0.989418</td>\n",
              "      <td>0.974522</td>\n",
              "      <td>0.900641</td>\n",
              "      <td>0.981914</td>\n",
              "      <td>0.941277</td>\n",
              "      <td>0.990787</td>\n",
              "    </tr>\n",
              "  </tbody>\n",
              "</table>\n",
              "</div>"
            ],
            "text/plain": [
              "              Sprint   Neg    TN   FN  ...        F1      F1 0  Macro F1       AUC\n",
              "0  Linear Regression  1805  1646  159  ...  0.608059  0.938962  0.773510  0.900983\n",
              "0      Decision Tree  1740  1632  108  ...  0.710311  0.948561  0.829436  0.918955\n",
              "0       Naïve Bayers  1754  1626  128  ...  0.659966  0.941245  0.800606  0.877858\n",
              "0      Random Forest  1757  1686   71  ...  0.855219  0.975130  0.915174  0.987027\n",
              "0  Gradient Boosting  1727  1683   44  ...  0.900641  0.981914  0.941277  0.990787\n",
              "\n",
              "[5 rows x 16 columns]"
            ]
          },
          "metadata": {
            "tags": []
          },
          "execution_count": 42
        }
      ]
    }
  ]
}
